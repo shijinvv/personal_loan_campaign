{
 "cells": [
  {
   "cell_type": "markdown",
   "metadata": {
    "id": "oiAwWZfeC4Xw"
   },
   "source": [
    "## Problem Statement"
   ]
  },
  {
   "cell_type": "markdown",
   "metadata": {
    "id": "WbNiHKYEC4Xx"
   },
   "source": [
    "### Context\n",
    "\n",
    "AllLife Bank is a US bank that has a growing customer base. The majority of these customers are liability customers (depositors) with varying sizes of deposits. The number of customers who are also borrowers (asset customers) is quite small, and the bank is interested in expanding this base rapidly to bring in more loan business and in the process, earn more through the interest on loans. In particular, the management wants to explore ways of converting its liability customers to personal loan customers (while retaining them as depositors).\n",
    "\n",
    "A campaign that the bank ran last year for liability customers showed a healthy conversion rate of over 9% success. This has encouraged the retail marketing department to devise campaigns with better target marketing to increase the success ratio.\n",
    "\n",
    "You as a Data scientist at AllLife bank have to build a model that will help the marketing department to identify the potential customers who have a higher probability of purchasing the loan."
   ]
  },
  {
   "cell_type": "markdown",
   "metadata": {
    "id": "7rfozb5OC4Xx"
   },
   "source": [
    "### Objective\n",
    "To predict whether a liability customer will buy personal loans, to understand which customer attributes are most significant in driving purchases, and identify which segment of customers to target more."
   ]
  },
  {
   "cell_type": "markdown",
   "metadata": {
    "id": "6sE497MaC4Xx"
   },
   "source": [
    "### Data Dictionary\n",
    "* `ID`: Customer ID\n",
    "* `Age`: Customer’s age in completed years\n",
    "* `Experience`: #years of professional experience\n",
    "* `Income`: Annual income of the customer (in thousand dollars)\n",
    "* `ZIP Code`: Home Address ZIP code.\n",
    "* `Family`: the Family size of the customer\n",
    "* `CCAvg`: Average spending on credit cards per month (in thousand dollars)\n",
    "* `Education`: Education Level. 1: Undergrad; 2: Graduate;3: Advanced/Professional\n",
    "* `Mortgage`: Value of house mortgage if any. (in thousand dollars)\n",
    "* `Personal_Loan`: Did this customer accept the personal loan offered in the last campaign? (0: No, 1: Yes)\n",
    "* `Securities_Account`: Does the customer have securities account with the bank? (0: No, 1: Yes)\n",
    "* `CD_Account`: Does the customer have a certificate of deposit (CD) account with the bank? (0: No, 1: Yes)\n",
    "* `Online`: Do customers use internet banking facilities? (0: No, 1: Yes)\n",
    "* `CreditCard`: Does the customer use a credit card issued by any other Bank (excluding All life Bank)? (0: No, 1: Yes)"
   ]
  },
  {
   "cell_type": "markdown",
   "metadata": {
    "id": "MSE_wI_CLngj"
   },
   "source": [
    "## **Please read the instructions carefully before starting the project.**\n",
    "\n",
    "This is a commented Jupyter IPython Notebook file in which all the instructions and tasks to be performed are mentioned.\n",
    "* Blanks '_______' are provided in the notebook that\n",
    "needs to be filled with an appropriate code to get the correct result. With every '_______' blank, there is a comment that briefly describes what needs to be filled in the blank space.\n",
    "* Identify the task to be performed correctly, and only then proceed to write the required code.\n",
    "* Fill the code wherever asked by the commented lines like \"# write your code here\" or \"# complete the code\". Running incomplete code may throw error.\n",
    "* Please run the codes in a sequential manner from the beginning to avoid any unnecessary errors.\n",
    "* Add the results/observations (wherever mentioned) derived from the analysis in the presentation and submit the same."
   ]
  },
  {
   "cell_type": "markdown",
   "metadata": {
    "id": "qW6gqvE1C4Xy"
   },
   "source": [
    "## Importing necessary libraries"
   ]
  },
  {
   "cell_type": "code",
   "execution_count": null,
   "metadata": {
    "id": "MeW5cQ7zjY7D"
   },
   "outputs": [],
   "source": [
    "# Installing the libraries with the specified version.\n",
    "!pip install numpy==1.25.2 pandas==1.5.3 matplotlib==3.7.1 seaborn==0.13.1 scikit-learn==1.2.2 sklearn-pandas==2.2.0 -q --user"
   ]
  },
  {
   "cell_type": "markdown",
   "metadata": {
    "id": "RA05PASgwTzG"
   },
   "source": [
    "**Note**: *After running the above cell, kindly restart the notebook kernel and run all cells sequentially from the start again.*"
   ]
  },
  {
   "cell_type": "code",
   "execution_count": null,
   "metadata": {
    "id": "90B7gkSIC4Xy"
   },
   "outputs": [],
   "source": [
    "# Libraries to help with reading and manipulating data\n",
    "import pandas as pd\n",
    "import numpy as np\n",
    "\n",
    "# libaries to help with data visualization\n",
    "import matplotlib.pyplot as plt\n",
    "import seaborn as sns\n",
    "\n",
    "# Removes the limit for the number of displayed columns\n",
    "pd.set_option(\"display.max_columns\", None)\n",
    "# Sets the limit for the number of displayed rows\n",
    "pd.set_option(\"display.max_rows\", 200)\n",
    "\n",
    "# Library to split data\n",
    "from sklearn.model_selection import train_test_split\n",
    "\n",
    "# To build model for prediction\n",
    "from sklearn.tree import DecisionTreeClassifier\n",
    "from sklearn import tree\n",
    "\n",
    "# To tune different models\n",
    "from sklearn.model_selection import GridSearchCV\n",
    "\n",
    "# To get diferent metric scores\n",
    "from sklearn.metrics import (\n",
    "    f1_score,\n",
    "    accuracy_score,\n",
    "    recall_score,\n",
    "    precision_score,\n",
    "    confusion_matrix,\n",
    "    make_scorer,\n",
    ")\n",
    "\n",
    "import warnings\n",
    "warnings.filterwarnings(\"ignore\")"
   ]
  },
  {
   "cell_type": "markdown",
   "metadata": {
    "id": "yGpsy8MaC4X0"
   },
   "source": [
    "## Loading the dataset"
   ]
  },
  {
   "cell_type": "code",
   "execution_count": null,
   "metadata": {
    "id": "-5oDrwjX232z"
   },
   "outputs": [],
   "source": [
    "# uncomment the following lines if Google Colab is being used\n",
    "# from google.colab import drive\n",
    "# drive.mount('/content/drive')"
   ]
  },
  {
   "cell_type": "code",
   "execution_count": null,
   "metadata": {
    "id": "cjUFF4fCC4X0"
   },
   "outputs": [],
   "source": [
    "Loan = pd.read_csv(\"_______\")   ##  Complete the code to read the data"
   ]
  },
  {
   "cell_type": "code",
   "execution_count": null,
   "metadata": {
    "id": "Vqy2F5RCC4X0"
   },
   "outputs": [],
   "source": [
    "# copying data to another variable to avoid any changes to original data\n",
    "data = Loan.copy()"
   ]
  },
  {
   "cell_type": "markdown",
   "metadata": {
    "id": "4o_swYenC4X1"
   },
   "source": [
    "## Data Overview"
   ]
  },
  {
   "cell_type": "markdown",
   "metadata": {
    "id": "Mbr6OdWEC4X1"
   },
   "source": [
    "### View the first and last 5 rows of the dataset."
   ]
  },
  {
   "cell_type": "code",
   "execution_count": null,
   "metadata": {
    "id": "ljao2PCdC4X1",
    "scrolled": true
   },
   "outputs": [],
   "source": [
    "data._______  ##  Complete the code to view top 5 rows of the data"
   ]
  },
  {
   "cell_type": "code",
   "execution_count": null,
   "metadata": {
    "id": "bQDEtP2IC4X1"
   },
   "outputs": [],
   "source": [
    "data._______  ##  Complete the code to view last 5 rows of the data"
   ]
  },
  {
   "cell_type": "markdown",
   "metadata": {
    "id": "dEuSu6e4hU2e"
   },
   "source": [
    "### Understand the shape of the dataset."
   ]
  },
  {
   "cell_type": "code",
   "execution_count": null,
   "metadata": {
    "id": "emSK7lFkC4X1"
   },
   "outputs": [],
   "source": [
    "data._______  ## Complete the code to get the shape of the data"
   ]
  },
  {
   "cell_type": "markdown",
   "metadata": {
    "id": "mwAu-vEwhU2m"
   },
   "source": [
    "### Check the data types of the columns for the dataset"
   ]
  },
  {
   "cell_type": "code",
   "execution_count": null,
   "metadata": {
    "id": "GkyJyB4DC4X2"
   },
   "outputs": [],
   "source": [
    "data._______  ##  Complete the code to view the datatypes of the data"
   ]
  },
  {
   "cell_type": "markdown",
   "metadata": {
    "id": "36aCBpXp2ikK"
   },
   "source": [
    "### Checking the Statistical Summary"
   ]
  },
  {
   "cell_type": "code",
   "execution_count": null,
   "metadata": {
    "id": "rR7Jx58WC4X2"
   },
   "outputs": [],
   "source": [
    "data._______.T  ## Complete the code to print the statistical summary of the data"
   ]
  },
  {
   "cell_type": "markdown",
   "metadata": {
    "id": "7KMCPrWrC4X2"
   },
   "source": [
    "### Dropping columns"
   ]
  },
  {
   "cell_type": "code",
   "execution_count": null,
   "metadata": {
    "id": "MTlqSUYEC4X2"
   },
   "outputs": [],
   "source": [
    "data = data.drop([_______], axis=1)  ## Complete the code to drop a column from the dataframe"
   ]
  },
  {
   "cell_type": "markdown",
   "metadata": {
    "id": "Vsyw2VXjC4X3"
   },
   "source": [
    "## Data Preprocessing"
   ]
  },
  {
   "cell_type": "markdown",
   "metadata": {
    "id": "_uzwbCno3DN2"
   },
   "source": [
    "### Checking for Anomalous Values"
   ]
  },
  {
   "cell_type": "code",
   "execution_count": null,
   "metadata": {
    "id": "PJxY16eI4Sba"
   },
   "outputs": [],
   "source": [
    "data[\"Experience\"].unique()"
   ]
  },
  {
   "cell_type": "code",
   "execution_count": null,
   "metadata": {
    "id": "LyEf_LdgWhWT"
   },
   "outputs": [],
   "source": [
    "# checking for experience <0\n",
    "data[data[\"Experience\"] < 0][\"Experience\"].unique()"
   ]
  },
  {
   "cell_type": "code",
   "execution_count": null,
   "metadata": {
    "id": "JBP4ypUWWjnt"
   },
   "outputs": [],
   "source": [
    "# Correcting the experience values\n",
    "data[\"Experience\"].replace(-1, 1, inplace=True)\n",
    "data[\"Experience\"].replace(-2, 2, inplace=True)\n",
    "data[\"Experience\"].replace(-3, 3, inplace=True)"
   ]
  },
  {
   "cell_type": "code",
   "execution_count": null,
   "metadata": {
    "id": "sGmq-iHuWlBp"
   },
   "outputs": [],
   "source": [
    "data[\"Education\"].unique()"
   ]
  },
  {
   "cell_type": "markdown",
   "metadata": {
    "id": "iJ5ll9Cg3Sog"
   },
   "source": [
    "### Feature Engineering"
   ]
  },
  {
   "cell_type": "code",
   "execution_count": null,
   "metadata": {
    "id": "aN8XMZIGC4X4"
   },
   "outputs": [],
   "source": [
    "# checking the number of uniques in the zip code\n",
    "data[\"ZIPCode\"].nunique()"
   ]
  },
  {
   "cell_type": "code",
   "execution_count": null,
   "metadata": {
    "id": "Pyrbm58nXNT0"
   },
   "outputs": [],
   "source": [
    "data[\"ZIPCode\"] = data[\"ZIPCode\"].astype(str)\n",
    "print(\n",
    "    \"Number of unique values if we take first two digits of ZIPCode: \",\n",
    "    data[\"ZIPCode\"].str[0:2].nunique(),\n",
    ")\n",
    "data[\"ZIPCode\"] = data[\"ZIPCode\"].str[0:2]\n",
    "\n",
    "data[\"ZIPCode\"] = data[\"ZIPCode\"].astype(\"category\")"
   ]
  },
  {
   "cell_type": "code",
   "execution_count": null,
   "metadata": {
    "id": "pqXzhacuC4X4"
   },
   "outputs": [],
   "source": [
    "## Converting the data type of categorical features to 'category'\n",
    "cat_cols = [\n",
    "    \"Education\",\n",
    "    \"Personal_Loan\",\n",
    "    \"Securities_Account\",\n",
    "    \"CD_Account\",\n",
    "    \"Online\",\n",
    "    \"CreditCard\",\n",
    "    \"ZIPCode\",\n",
    "]\n",
    "data[cat_cols] = data[cat_cols].astype(\"_______\")"
   ]
  },
  {
   "cell_type": "markdown",
   "metadata": {
    "id": "kUJ_B5KxhU3D"
   },
   "source": [
    "## <a name='link2'>Exploratory Data Analysis (EDA)</a>\n"
   ]
  },
  {
   "cell_type": "markdown",
   "metadata": {
    "id": "4vJzUjS9_-Jt"
   },
   "source": [
    "### Univariate Analysis"
   ]
  },
  {
   "cell_type": "code",
   "execution_count": null,
   "metadata": {
    "id": "ef-2oS7z-yYP"
   },
   "outputs": [],
   "source": [
    "def histogram_boxplot(data, feature, figsize=(12, 7), kde=False, bins=None):\n",
    "    \"\"\"\n",
    "    Boxplot and histogram combined\n",
    "\n",
    "    data: dataframe\n",
    "    feature: dataframe column\n",
    "    figsize: size of figure (default (12,7))\n",
    "    kde: whether to show the density curve (default False)\n",
    "    bins: number of bins for histogram (default None)\n",
    "    \"\"\"\n",
    "    f2, (ax_box2, ax_hist2) = plt.subplots(\n",
    "        nrows=2,  # Number of rows of the subplot grid= 2\n",
    "        sharex=True,  # x-axis will be shared among all subplots\n",
    "        gridspec_kw={\"height_ratios\": (0.25, 0.75)},\n",
    "        figsize=figsize,\n",
    "    )  # creating the 2 subplots\n",
    "    sns.boxplot(\n",
    "        data=data, x=feature, ax=ax_box2, showmeans=True, color=\"violet\"\n",
    "    )  # boxplot will be created and a star will indicate the mean value of the column\n",
    "    sns.histplot(\n",
    "        data=data, x=feature, kde=kde, ax=ax_hist2, bins=bins, palette=\"winter\"\n",
    "    ) if bins else sns.histplot(\n",
    "        data=data, x=feature, kde=kde, ax=ax_hist2\n",
    "    )  # For histogram\n",
    "    ax_hist2.axvline(\n",
    "        data[feature].mean(), color=\"green\", linestyle=\"--\"\n",
    "    )  # Add mean to the histogram\n",
    "    ax_hist2.axvline(\n",
    "        data[feature].median(), color=\"black\", linestyle=\"-\"\n",
    "    )  # Add median to the histogram"
   ]
  },
  {
   "cell_type": "code",
   "execution_count": null,
   "metadata": {
    "id": "O72HDsfS-yYQ"
   },
   "outputs": [],
   "source": [
    "# function to create labeled barplots\n",
    "\n",
    "\n",
    "def labeled_barplot(data, feature, perc=False, n=None):\n",
    "    \"\"\"\n",
    "    Barplot with percentage at the top\n",
    "\n",
    "    data: dataframe\n",
    "    feature: dataframe column\n",
    "    perc: whether to display percentages instead of count (default is False)\n",
    "    n: displays the top n category levels (default is None, i.e., display all levels)\n",
    "    \"\"\"\n",
    "\n",
    "    total = len(data[feature])  # length of the column\n",
    "    count = data[feature].nunique()\n",
    "    if n is None:\n",
    "        plt.figure(figsize=(count + 1, 5))\n",
    "    else:\n",
    "        plt.figure(figsize=(n + 1, 5))\n",
    "\n",
    "    plt.xticks(rotation=90, fontsize=15)\n",
    "    ax = sns.countplot(\n",
    "        data=data,\n",
    "        x=feature,\n",
    "        palette=\"Paired\",\n",
    "        order=data[feature].value_counts().index[:n].sort_values(),\n",
    "    )\n",
    "\n",
    "    for p in ax.patches:\n",
    "        if perc == True:\n",
    "            label = \"{:.1f}%\".format(\n",
    "                100 * p.get_height() / total\n",
    "            )  # percentage of each class of the category\n",
    "        else:\n",
    "            label = p.get_height()  # count of each level of the category\n",
    "\n",
    "        x = p.get_x() + p.get_width() / 2  # width of the plot\n",
    "        y = p.get_height()  # height of the plot\n",
    "\n",
    "        ax.annotate(\n",
    "            label,\n",
    "            (x, y),\n",
    "            ha=\"center\",\n",
    "            va=\"center\",\n",
    "            size=12,\n",
    "            xytext=(0, 5),\n",
    "            textcoords=\"offset points\",\n",
    "        )  # annotate the percentage\n",
    "\n",
    "    plt.show()  # show the plot"
   ]
  },
  {
   "cell_type": "markdown",
   "metadata": {
    "id": "QjuGWeOmEGoS"
   },
   "source": [
    "#### Observations on Age"
   ]
  },
  {
   "cell_type": "code",
   "execution_count": null,
   "metadata": {
    "id": "LnCq2WEpDou5"
   },
   "outputs": [],
   "source": [
    "histogram_boxplot(data, \"age\")"
   ]
  },
  {
   "cell_type": "markdown",
   "metadata": {
    "id": "zzdrcVHaEY0t"
   },
   "source": [
    "#### Observations on Experience"
   ]
  },
  {
   "cell_type": "code",
   "execution_count": null,
   "metadata": {
    "id": "DY3N62KZDosK"
   },
   "outputs": [],
   "source": [
    "histogram_boxplot(_______) ## Complete the code to create histogram_boxplot for experience"
   ]
  },
  {
   "cell_type": "markdown",
   "metadata": {
    "id": "24eVdJLlEkEU"
   },
   "source": [
    "#### Observations on Income"
   ]
  },
  {
   "cell_type": "code",
   "execution_count": null,
   "metadata": {
    "id": "7bZMRP1GDopX"
   },
   "outputs": [],
   "source": [
    "histogram_boxplot(_______)  ## Complete the code to create histogram_boxplot for Income"
   ]
  },
  {
   "cell_type": "markdown",
   "metadata": {
    "id": "DG4dgxL_ExDR"
   },
   "source": [
    "#### Observations on CCAvg"
   ]
  },
  {
   "cell_type": "code",
   "execution_count": null,
   "metadata": {
    "id": "10ElzFKwDomo"
   },
   "outputs": [],
   "source": [
    "histogram_boxplot(_______)  ## Complete the code to create histogram_boxplot for CCAvg"
   ]
  },
  {
   "cell_type": "markdown",
   "metadata": {
    "id": "a0GLlhKCE5bg"
   },
   "source": [
    "#### Observations on Mortgage"
   ]
  },
  {
   "cell_type": "code",
   "execution_count": null,
   "metadata": {
    "id": "mCij70gSDoju"
   },
   "outputs": [],
   "source": [
    "histogram_boxplot(_______)  ## Complete the code to create histogram_boxplot for Mortgage"
   ]
  },
  {
   "cell_type": "markdown",
   "metadata": {
    "id": "JzTJoVRME-fU"
   },
   "source": [
    "#### Observations on Family"
   ]
  },
  {
   "cell_type": "code",
   "execution_count": null,
   "metadata": {
    "id": "1VQnJ5JRDogq"
   },
   "outputs": [],
   "source": [
    "labeled_barplot(data, \"Family\", perc=True)"
   ]
  },
  {
   "cell_type": "markdown",
   "metadata": {
    "id": "5v-RI3_hFHKR"
   },
   "source": [
    "#### Observations on Education"
   ]
  },
  {
   "cell_type": "code",
   "execution_count": null,
   "metadata": {
    "id": "h0GPe7cnDodZ"
   },
   "outputs": [],
   "source": [
    "labeled_barplot(_______)   ## Complete the code to create labeled_barplot for Education"
   ]
  },
  {
   "cell_type": "markdown",
   "metadata": {
    "id": "iu38TAwRFUb5"
   },
   "source": [
    "#### Observations on Securities_Account"
   ]
  },
  {
   "cell_type": "code",
   "execution_count": null,
   "metadata": {
    "id": "XdOetrRMFSeJ"
   },
   "outputs": [],
   "source": [
    "labeled_barplot(_______)   ## Complete the code to create labeled_barplot for Securities_Account"
   ]
  },
  {
   "cell_type": "markdown",
   "metadata": {
    "id": "itZOMUhcFcao"
   },
   "source": [
    "#### Observations on CD_Account"
   ]
  },
  {
   "cell_type": "code",
   "execution_count": null,
   "metadata": {
    "id": "78Ds-L7ZFSbN"
   },
   "outputs": [],
   "source": [
    "labeled_barplot(_______)   ## Complete the code to create labeled_barplot for CD_Account"
   ]
  },
  {
   "cell_type": "markdown",
   "metadata": {
    "id": "BdeJ6JQFFjW7"
   },
   "source": [
    "#### Observations on Online"
   ]
  },
  {
   "cell_type": "code",
   "execution_count": null,
   "metadata": {
    "id": "CQKSU3CHFSYa"
   },
   "outputs": [],
   "source": [
    "labeled_barplot(_______)   ## Complete the code to create labeled_barplot for Online"
   ]
  },
  {
   "cell_type": "markdown",
   "metadata": {
    "id": "PdzxuDEaFmbu"
   },
   "source": [
    "#### Observation on CreditCard"
   ]
  },
  {
   "cell_type": "code",
   "execution_count": null,
   "metadata": {
    "id": "xQq2aLT0FSVc"
   },
   "outputs": [],
   "source": [
    "labeled_barplot(_______)   ## Complete the code to create labeled_barplot for CreditCard"
   ]
  },
  {
   "cell_type": "markdown",
   "metadata": {
    "id": "ACJO6FE1F5Rk"
   },
   "source": [
    "#### Observation on ZIPCode"
   ]
  },
  {
   "cell_type": "code",
   "execution_count": null,
   "metadata": {
    "id": "893IZRDaF4_2"
   },
   "outputs": [],
   "source": [
    "labeled_barplot(_______)   ## Complete the code to create labeled_barplot for ZIPCode"
   ]
  },
  {
   "cell_type": "markdown",
   "metadata": {
    "id": "6ocQdtn6F8Uc"
   },
   "source": [
    "### Bivariate Analysis"
   ]
  },
  {
   "cell_type": "code",
   "execution_count": null,
   "metadata": {
    "id": "-6XVBRj5Q1_d"
   },
   "outputs": [],
   "source": [
    "def stacked_barplot(data, predictor, target):\n",
    "    \"\"\"\n",
    "    Print the category counts and plot a stacked bar chart\n",
    "\n",
    "    data: dataframe\n",
    "    predictor: independent variable\n",
    "    target: target variable\n",
    "    \"\"\"\n",
    "    count = data[predictor].nunique()\n",
    "    sorter = data[target].value_counts().index[-1]\n",
    "    tab1 = pd.crosstab(data[predictor], data[target], margins=True).sort_values(\n",
    "        by=sorter, ascending=False\n",
    "    )\n",
    "    print(tab1)\n",
    "    print(\"-\" * 120)\n",
    "    tab = pd.crosstab(data[predictor], data[target], normalize=\"index\").sort_values(\n",
    "        by=sorter, ascending=False\n",
    "    )\n",
    "    tab.plot(kind=\"bar\", stacked=True, figsize=(count + 5, 5))\n",
    "    plt.legend(\n",
    "        loc=\"lower left\", frameon=False,\n",
    "    )\n",
    "    plt.legend(loc=\"upper left\", bbox_to_anchor=(1, 1))\n",
    "    plt.show()"
   ]
  },
  {
   "cell_type": "code",
   "execution_count": null,
   "metadata": {
    "id": "g5fOGMviQ21L"
   },
   "outputs": [],
   "source": [
    "### function to plot distributions wrt target\n",
    "\n",
    "\n",
    "def distribution_plot_wrt_target(data, predictor, target):\n",
    "\n",
    "    fig, axs = plt.subplots(2, 2, figsize=(12, 10))\n",
    "\n",
    "    target_uniq = data[target].unique()\n",
    "\n",
    "    axs[0, 0].set_title(\"Distribution of target for target=\" + str(target_uniq[0]))\n",
    "    sns.histplot(\n",
    "        data=data[data[target] == target_uniq[0]],\n",
    "        x=predictor,\n",
    "        kde=True,\n",
    "        ax=axs[0, 0],\n",
    "        color=\"teal\",\n",
    "        stat=\"density\",\n",
    "    )\n",
    "\n",
    "    axs[0, 1].set_title(\"Distribution of target for target=\" + str(target_uniq[1]))\n",
    "    sns.histplot(\n",
    "        data=data[data[target] == target_uniq[1]],\n",
    "        x=predictor,\n",
    "        kde=True,\n",
    "        ax=axs[0, 1],\n",
    "        color=\"orange\",\n",
    "        stat=\"density\",\n",
    "    )\n",
    "\n",
    "    axs[1, 0].set_title(\"Boxplot w.r.t target\")\n",
    "    sns.boxplot(data=data, x=target, y=predictor, ax=axs[1, 0], palette=\"gist_rainbow\")\n",
    "\n",
    "    axs[1, 1].set_title(\"Boxplot (without outliers) w.r.t target\")\n",
    "    sns.boxplot(\n",
    "        data=data,\n",
    "        x=target,\n",
    "        y=predictor,\n",
    "        ax=axs[1, 1],\n",
    "        showfliers=False,\n",
    "        palette=\"gist_rainbow\",\n",
    "    )\n",
    "\n",
    "    plt.tight_layout()\n",
    "    plt.show()"
   ]
  },
  {
   "cell_type": "markdown",
   "metadata": {
    "id": "GOXF6qiVZ1jD"
   },
   "source": [
    "#### Correlation check"
   ]
  },
  {
   "cell_type": "code",
   "execution_count": null,
   "metadata": {
    "id": "roJ_-HU2GEeB"
   },
   "outputs": [],
   "source": [
    "plt.figure(figsize=(15, 7))\n",
    "sns.heatmap(______.corr(), annot=True, vmin=-1, vmax=1, fmt=\".2f\", cmap=\"Spectral\") # Complete the code to get the heatmap of the data\n",
    "plt.show()"
   ]
  },
  {
   "cell_type": "markdown",
   "metadata": {
    "id": "IOp9K2wEG5p0"
   },
   "source": [
    "#### Let's check how a customer's interest in purchasing a loan varies with their education"
   ]
  },
  {
   "cell_type": "code",
   "execution_count": null,
   "metadata": {
    "id": "p82CWckFGEbk"
   },
   "outputs": [],
   "source": [
    "stacked_barplot(data, \"Education\", \"Personal_Loan\")"
   ]
  },
  {
   "cell_type": "markdown",
   "metadata": {
    "id": "soQXBsZNG8Hc"
   },
   "source": [
    "#### Personal_Loan vs Family"
   ]
  },
  {
   "cell_type": "code",
   "execution_count": null,
   "metadata": {
    "id": "w1jvdwNMGEY3"
   },
   "outputs": [],
   "source": [
    "stacked_barplot(_______)  ## Complete the code to plot stacked barplot for Personal Loan and Family"
   ]
  },
  {
   "cell_type": "markdown",
   "metadata": {
    "id": "BgOQfs9_HBej"
   },
   "source": [
    "#### Personal_Loan vs Securities_Account"
   ]
  },
  {
   "cell_type": "code",
   "execution_count": null,
   "metadata": {
    "id": "HVuBG7AQFSSn"
   },
   "outputs": [],
   "source": [
    "stacked_barplot(_______) ## Complete the code to plot stacked barplot for Personal Loan and Securities_Account"
   ]
  },
  {
   "cell_type": "markdown",
   "metadata": {
    "id": "WyLpV-BRHPkR"
   },
   "source": [
    "#### Personal_Loan vs CD_Account"
   ]
  },
  {
   "cell_type": "code",
   "execution_count": null,
   "metadata": {
    "id": "FeIX0THcHNN3"
   },
   "outputs": [],
   "source": [
    "stacked_barplot(_______) ## Complete the code to plot stacked barplot for Personal Loan and CD_Account"
   ]
  },
  {
   "cell_type": "markdown",
   "metadata": {
    "id": "OGv86aejHTG0"
   },
   "source": [
    "#### Personal_Loan vs Online"
   ]
  },
  {
   "cell_type": "code",
   "execution_count": null,
   "metadata": {
    "id": "ne8p8nukHNLO"
   },
   "outputs": [],
   "source": [
    "stacked_barplot(_______) ## Complete the code to plot stacked barplot for Personal Loan and Online"
   ]
  },
  {
   "cell_type": "markdown",
   "metadata": {
    "id": "a9nCniQgHZUu"
   },
   "source": [
    "#### Personal_Loan vs CreditCard"
   ]
  },
  {
   "cell_type": "code",
   "execution_count": null,
   "metadata": {
    "id": "FkE6UfOdHXUp"
   },
   "outputs": [],
   "source": [
    "stacked_barplot(_______) ## Complete the code to plot stacked barplot for Personal Loan and CreditCard"
   ]
  },
  {
   "cell_type": "markdown",
   "metadata": {
    "id": "0YcmISkyHc_a"
   },
   "source": [
    "#### Personal_Loan vs ZIPCode"
   ]
  },
  {
   "cell_type": "code",
   "execution_count": null,
   "metadata": {
    "id": "5SGyq83jHXR4"
   },
   "outputs": [],
   "source": [
    "stacked_barplot(_______) ## Complete the code to plot stacked barplot for Personal Loan and ZIPCode"
   ]
  },
  {
   "cell_type": "markdown",
   "metadata": {
    "id": "CO30h257HiLq"
   },
   "source": [
    "#### Let's check how a customer's interest in purchasing a loan varies with their age"
   ]
  },
  {
   "cell_type": "code",
   "execution_count": null,
   "metadata": {
    "id": "hYAGce0aHh3z"
   },
   "outputs": [],
   "source": [
    "distribution_plot_wrt_target(data, \"Age\", \"Personal_Loan\")"
   ]
  },
  {
   "cell_type": "markdown",
   "metadata": {
    "id": "wu6IjYeVHyEj"
   },
   "source": [
    "#### Personal Loan vs Experience"
   ]
  },
  {
   "cell_type": "code",
   "execution_count": null,
   "metadata": {
    "id": "-Hdu4YUMHNIT"
   },
   "outputs": [],
   "source": [
    "distribution_plot_wrt_target(_______) ## Complete the code to plot stacked barplot for Personal Loan and Experience"
   ]
  },
  {
   "cell_type": "markdown",
   "metadata": {
    "id": "Zl2-uHxAH_CB"
   },
   "source": [
    "#### Personal Loan vs Income"
   ]
  },
  {
   "cell_type": "code",
   "execution_count": null,
   "metadata": {
    "id": "ktZUooaVH9Jz"
   },
   "outputs": [],
   "source": [
    "distribution_plot_wrt_target(_______) ## Complete the code to plot stacked barplot for Personal Loan and Income"
   ]
  },
  {
   "cell_type": "markdown",
   "metadata": {
    "id": "kIdGE5OZIGuM"
   },
   "source": [
    "#### Personal Loan vs CCAvg"
   ]
  },
  {
   "cell_type": "code",
   "execution_count": null,
   "metadata": {
    "id": "daHESc6fH9G8"
   },
   "outputs": [],
   "source": [
    "distribution_plot_wrt_target(_______) ## Complete the code to plot stacked barplot for Personal Loan and CCAvg"
   ]
  },
  {
   "cell_type": "markdown",
   "metadata": {
    "id": "skZfb2kl3-N8"
   },
   "source": [
    "## Data Preprocessing (contd.)"
   ]
  },
  {
   "cell_type": "markdown",
   "metadata": {
    "id": "QQzSM2MYC4X6"
   },
   "source": [
    "### Outlier Detection"
   ]
  },
  {
   "cell_type": "code",
   "execution_count": null,
   "metadata": {
    "id": "geT5sNxxC4X7"
   },
   "outputs": [],
   "source": [
    "Q1 = data._______(0.25)  # To find the 25th percentile and 75th percentile.\n",
    "Q3 = data._______(0.75)\n",
    "\n",
    "IQR = Q3 - Q1  # Inter Quantile Range (75th perentile - 25th percentile)\n",
    "\n",
    "lower = (\n",
    "    Q1 - 1.5 * IQR\n",
    ")  # Finding lower and upper bounds for all values. All values outside these bounds are outliers\n",
    "upper = Q3 + 1.5 * IQR"
   ]
  },
  {
   "cell_type": "code",
   "execution_count": null,
   "metadata": {
    "id": "BilQz0sMC4X7"
   },
   "outputs": [],
   "source": [
    "(\n",
    "    (data.select_dtypes(include=[\"float64\", \"int64\"]) < lower)\n",
    "    | (data.select_dtypes(include=[\"float64\", \"int64\"]) > upper)\n",
    ").sum() / len(data) * 100"
   ]
  },
  {
   "cell_type": "markdown",
   "metadata": {
    "id": "gmXzCmngC4X7"
   },
   "source": [
    "### Data Preparation for Modeling"
   ]
  },
  {
   "cell_type": "code",
   "execution_count": null,
   "metadata": {
    "id": "1mXJKfifC4X7"
   },
   "outputs": [],
   "source": [
    "# dropping Experience as it is perfectly correlated with Age\n",
    "X = data.drop([\"Personal_Loan\", \"Experience\"], axis=1)\n",
    "Y = data[\"Personal_Loan\"]\n",
    "\n",
    "X = pd.get_dummies(X, columns=[\"ZIPCode\", \"Education\"], drop_first=True)\n",
    "\n",
    "# Splitting data in train and test sets\n",
    "X_train, X_test, y_train, y_test = train_test_split(\n",
    "    X, Y, test_size=0.30, random_state=1\n",
    ")"
   ]
  },
  {
   "cell_type": "code",
   "execution_count": null,
   "metadata": {
    "id": "jgZ6iDQDC4X7"
   },
   "outputs": [],
   "source": [
    "print(\"Shape of Training set : \", X_train.shape)\n",
    "print(\"Shape of test set : \", X_test.shape)\n",
    "print(\"Percentage of classes in training set:\")\n",
    "print(y_train.value_counts(normalize=True))\n",
    "print(\"Percentage of classes in test set:\")\n",
    "print(y_test.value_counts(normalize=True))"
   ]
  },
  {
   "cell_type": "markdown",
   "metadata": {
    "id": "m9fXqCPnC4X7"
   },
   "source": [
    "## Model Building"
   ]
  },
  {
   "cell_type": "markdown",
   "metadata": {
    "id": "hPn0vcAH4ch9"
   },
   "source": [
    "### Model Evaluation Criterion"
   ]
  },
  {
   "cell_type": "markdown",
   "metadata": {
    "id": "Ash3XATbC4YA"
   },
   "source": [
    "### Model Building"
   ]
  },
  {
   "cell_type": "markdown",
   "metadata": {
    "id": "07-LotVsC4YA"
   },
   "source": [
    "First, let's create functions to calculate different metrics and confusion matrix so that we don't have to use the same code repeatedly for each model.\n",
    "\n",
    "* The model_performance_classification_sklearn function will be used to check the model performance of models.\n",
    "* The confusion_matrix_sklearnfunction will be used to plot confusion matrix."
   ]
  },
  {
   "cell_type": "code",
   "execution_count": null,
   "metadata": {
    "id": "RUiJjUivC4YA"
   },
   "outputs": [],
   "source": [
    "# defining a function to compute different metrics to check performance of a classification model built using sklearn\n",
    "def model_performance_classification_sklearn(model, predictors, target):\n",
    "    \"\"\"\n",
    "    Function to compute different metrics to check classification model performance\n",
    "\n",
    "    model: classifier\n",
    "    predictors: independent variables\n",
    "    target: dependent variable\n",
    "    \"\"\"\n",
    "\n",
    "    # predicting using the independent variables\n",
    "    pred = model.predict(predictors)\n",
    "\n",
    "    acc = accuracy_score(target, pred)  # to compute Accuracy\n",
    "    recall = recall_score(target, pred)  # to compute Recall\n",
    "    precision = precision_score(target, pred)  # to compute Precision\n",
    "    f1 = f1_score(target, pred)  # to compute F1-score\n",
    "\n",
    "    # creating a dataframe of metrics\n",
    "    df_perf = pd.DataFrame(\n",
    "        {\"Accuracy\": acc, \"Recall\": recall, \"Precision\": precision, \"F1\": f1,},\n",
    "        index=[0],\n",
    "    )\n",
    "\n",
    "    return df_perf"
   ]
  },
  {
   "cell_type": "code",
   "execution_count": null,
   "metadata": {
    "id": "7gEVQVSJC4YA"
   },
   "outputs": [],
   "source": [
    "def confusion_matrix_sklearn(model, predictors, target):\n",
    "    \"\"\"\n",
    "    To plot the confusion_matrix with percentages\n",
    "\n",
    "    model: classifier\n",
    "    predictors: independent variables\n",
    "    target: dependent variable\n",
    "    \"\"\"\n",
    "    y_pred = model.predict(predictors)\n",
    "    cm = confusion_matrix(target, y_pred)\n",
    "    labels = np.asarray(\n",
    "        [\n",
    "            [\"{0:0.0f}\".format(item) + \"\\n{0:.2%}\".format(item / cm.flatten().sum())]\n",
    "            for item in cm.flatten()\n",
    "        ]\n",
    "    ).reshape(2, 2)\n",
    "\n",
    "    plt.figure(figsize=(6, 4))\n",
    "    sns.heatmap(cm, annot=labels, fmt=\"\")\n",
    "    plt.ylabel(\"True label\")\n",
    "    plt.xlabel(\"Predicted label\")"
   ]
  },
  {
   "cell_type": "markdown",
   "metadata": {
    "id": "MaixHe3dC4YB"
   },
   "source": [
    "#### Build Decision Tree Model"
   ]
  },
  {
   "cell_type": "code",
   "execution_count": null,
   "metadata": {
    "id": "QitFaBk-C4YB"
   },
   "outputs": [],
   "source": [
    "model = DecisionTreeClassifier(criterion=\"gini\", random_state=1)\n",
    "model.fit(X_train, y_train)"
   ]
  },
  {
   "cell_type": "markdown",
   "metadata": {
    "id": "rMxU-3QMC4YB"
   },
   "source": [
    "#### Checking model performance on training data"
   ]
  },
  {
   "cell_type": "code",
   "execution_count": null,
   "metadata": {
    "id": "9ZFPDVa0C4YB"
   },
   "outputs": [],
   "source": [
    "confusion_matrix_sklearn(model, X_train, y_train)"
   ]
  },
  {
   "cell_type": "code",
   "execution_count": null,
   "metadata": {
    "id": "UPwxH5k7C4YB"
   },
   "outputs": [],
   "source": [
    "decision_tree_perf_train = model_performance_classification_sklearn(\n",
    "    model, X_train, y_train\n",
    ")\n",
    "decision_tree_perf_train"
   ]
  },
  {
   "cell_type": "markdown",
   "metadata": {
    "id": "7nDW0YQlC4YB"
   },
   "source": [
    "#### Visualizing the Decision Tree"
   ]
  },
  {
   "cell_type": "code",
   "execution_count": null,
   "metadata": {
    "id": "h_9TIzrTC4YB"
   },
   "outputs": [],
   "source": [
    "feature_names = list(X_train.columns)\n",
    "print(feature_names)"
   ]
  },
  {
   "cell_type": "code",
   "execution_count": null,
   "metadata": {
    "id": "NPy3CqXtC4YB"
   },
   "outputs": [],
   "source": [
    "plt.figure(figsize=(20, 30))\n",
    "out = tree.plot_tree(\n",
    "    model,\n",
    "    feature_names=feature_names,\n",
    "    filled=True,\n",
    "    fontsize=9,\n",
    "    node_ids=False,\n",
    "    class_names=None,\n",
    ")\n",
    "# below code will add arrows to the decision tree split if they are missing\n",
    "for o in out:\n",
    "    arrow = o.arrow_patch\n",
    "    if arrow is not None:\n",
    "        arrow.set_edgecolor(\"black\")\n",
    "        arrow.set_linewidth(1)\n",
    "plt.show()"
   ]
  },
  {
   "cell_type": "code",
   "execution_count": null,
   "metadata": {
    "id": "18VKmimLC4YB"
   },
   "outputs": [],
   "source": [
    "# Text report showing the rules of a decision tree -\n",
    "\n",
    "print(tree.export_text(model, feature_names=feature_names, show_weights=True))"
   ]
  },
  {
   "cell_type": "code",
   "execution_count": null,
   "metadata": {
    "id": "6_nnI5ZBC4YC"
   },
   "outputs": [],
   "source": [
    "# importance of features in the tree building ( The importance of a feature is computed as the\n",
    "# (normalized) total reduction of the criterion brought by that feature. It is also known as the Gini importance )\n",
    "\n",
    "print(\n",
    "    pd.DataFrame(\n",
    "        model.feature_importances_, columns=[\"Imp\"], index=X_train.columns\n",
    "    ).sort_values(by=\"Imp\", ascending=False)\n",
    ")"
   ]
  },
  {
   "cell_type": "code",
   "execution_count": null,
   "metadata": {
    "id": "pef6gAISC4YC"
   },
   "outputs": [],
   "source": [
    "importances = model.feature_importances_\n",
    "indices = np.argsort(importances)\n",
    "\n",
    "plt.figure(figsize=(8, 8))\n",
    "plt.title(\"Feature Importances\")\n",
    "plt.barh(range(len(indices)), importances[indices], color=\"violet\", align=\"center\")\n",
    "plt.yticks(range(len(indices)), [feature_names[i] for i in indices])\n",
    "plt.xlabel(\"Relative Importance\")\n",
    "plt.show()"
   ]
  },
  {
   "cell_type": "markdown",
   "metadata": {
    "id": "rvlLx6_zC4YC"
   },
   "source": [
    "#### Checking model performance on test data"
   ]
  },
  {
   "cell_type": "code",
   "execution_count": null,
   "metadata": {
    "id": "YndeKYD8C4YC"
   },
   "outputs": [],
   "source": [
    "confusion_matrix_sklearn(_______) ## Complete the code to create confusion matrix for test data"
   ]
  },
  {
   "cell_type": "code",
   "execution_count": null,
   "metadata": {
    "id": "6iDD7xFTC4YC"
   },
   "outputs": [],
   "source": [
    "decision_tree_perf_test = model_performance_classification_sklearn(_______) ## Complete the code to check performance on test data\n",
    "decision_tree_perf_test"
   ]
  },
  {
   "cell_type": "markdown",
   "metadata": {
    "id": "kpDCgvB6C4YC"
   },
   "source": [
    "## Model Performance Improvement"
   ]
  },
  {
   "cell_type": "markdown",
   "metadata": {
    "id": "CuyQJdFRC4YC"
   },
   "source": [
    "#### Pre-Pruning"
   ]
  },
  {
   "cell_type": "code",
   "execution_count": null,
   "metadata": {
    "id": "MGZP98V6C4YC"
   },
   "outputs": [],
   "source": [
    "# Choose the type of classifier.\n",
    "estimator = DecisionTreeClassifier(random_state=1)\n",
    "\n",
    "# Grid of parameters to choose from\n",
    "parameters = {\n",
    "    \"max_depth\": np.arange(6, 15),\n",
    "    \"min_samples_leaf\": [1, 2, 5, 7, 10],\n",
    "    \"max_leaf_nodes\": [2, 3, 5, 10],\n",
    "}\n",
    "\n",
    "# Type of scoring used to compare parameter combinations\n",
    "acc_scorer = make_scorer(recall_score)\n",
    "\n",
    "# Run the grid search\n",
    "grid_obj = GridSearchCV(estimator, parameters, scoring=acc_scorer, cv=5)\n",
    "grid_obj = grid_obj.fit(X_train, y_train)\n",
    "\n",
    "# Set the clf to the best combination of parameters\n",
    "estimator = grid_obj.best_estimator_\n",
    "\n",
    "# Fit the best algorithm to the data.\n",
    "estimator.fit(_______) ## Complete the code to fit model on train data"
   ]
  },
  {
   "cell_type": "markdown",
   "metadata": {
    "id": "Om3h1naUC4YC"
   },
   "source": [
    "**Checking performance on training data**"
   ]
  },
  {
   "cell_type": "code",
   "execution_count": null,
   "metadata": {
    "id": "FhaRaXFzC4YC"
   },
   "outputs": [],
   "source": [
    "confusion_matrix_sklearn(_______) ## Complete the code to create confusion matrix for train data"
   ]
  },
  {
   "cell_type": "code",
   "execution_count": null,
   "metadata": {
    "id": "f2Y1j1hIC4YC"
   },
   "outputs": [],
   "source": [
    "decision_tree_tune_perf_train = model_performance_classification_sklearn(_______) ## Complete the code to check performance on train data\n",
    "decision_tree_tune_perf_train"
   ]
  },
  {
   "cell_type": "markdown",
   "metadata": {
    "id": "XflbxvDqC4YD"
   },
   "source": [
    "**Visualizing the Decision Tree**"
   ]
  },
  {
   "cell_type": "code",
   "execution_count": null,
   "metadata": {
    "id": "2txWI93YC4YD"
   },
   "outputs": [],
   "source": [
    "plt.figure(figsize=(10, 10))\n",
    "out = tree.plot_tree(\n",
    "    estimator,\n",
    "    feature_names=feature_names,\n",
    "    filled=True,\n",
    "    fontsize=9,\n",
    "    node_ids=False,\n",
    "    class_names=None,\n",
    ")\n",
    "# below code will add arrows to the decision tree split if they are missing\n",
    "for o in out:\n",
    "    arrow = o.arrow_patch\n",
    "    if arrow is not None:\n",
    "        arrow.set_edgecolor(\"black\")\n",
    "        arrow.set_linewidth(1)\n",
    "plt.show()"
   ]
  },
  {
   "cell_type": "code",
   "execution_count": null,
   "metadata": {
    "id": "DC34C9cEC4YD"
   },
   "outputs": [],
   "source": [
    "# Text report showing the rules of a decision tree -\n",
    "\n",
    "print(tree.export_text(estimator, feature_names=feature_names, show_weights=True))"
   ]
  },
  {
   "cell_type": "code",
   "execution_count": null,
   "metadata": {
    "id": "ew9ASiG3C4YD"
   },
   "outputs": [],
   "source": [
    "# importance of features in the tree building ( The importance of a feature is computed as the\n",
    "# (normalized) total reduction of the criterion brought by that feature. It is also known as the Gini importance )\n",
    "\n",
    "print(\n",
    "    pd.DataFrame(\n",
    "        estimator.feature_importances_, columns=[\"Imp\"], index=X_train.columns\n",
    "    ).sort_values(by=\"Imp\", ascending=False)\n",
    ")"
   ]
  },
  {
   "cell_type": "code",
   "execution_count": null,
   "metadata": {
    "id": "J-HM6fALC4YD"
   },
   "outputs": [],
   "source": [
    "importances = estimator.feature_importances_\n",
    "indices = np.argsort(importances)\n",
    "\n",
    "plt.figure(figsize=(8, 8))\n",
    "plt.title(\"Feature Importances\")\n",
    "plt.barh(range(len(indices)), importances[indices], color=\"violet\", align=\"center\")\n",
    "plt.yticks(range(len(indices)), [feature_names[i] for i in indices])\n",
    "plt.xlabel(\"Relative Importance\")\n",
    "plt.show()"
   ]
  },
  {
   "cell_type": "markdown",
   "metadata": {
    "id": "qTmqOIpbC4YE"
   },
   "source": [
    "**Checking performance on test data**"
   ]
  },
  {
   "cell_type": "code",
   "execution_count": null,
   "metadata": {
    "id": "SIbpRGx0C4YE"
   },
   "outputs": [],
   "source": [
    "confusion_matrix_sklearn(___________)  # Complete the code to get the confusion matrix on test data"
   ]
  },
  {
   "cell_type": "code",
   "execution_count": null,
   "metadata": {
    "id": "9pBJqKrBC4YE"
   },
   "outputs": [],
   "source": [
    "decision_tree_tune_perf_test = model_performance_classification_sklearn(___________) ## Complete the code to check performance on test data\n",
    "decision_tree_tune_perf_test"
   ]
  },
  {
   "cell_type": "markdown",
   "metadata": {
    "id": "lHXAxbhtC4YE"
   },
   "source": [
    "#### Cost-Complexity Pruning"
   ]
  },
  {
   "cell_type": "code",
   "execution_count": null,
   "metadata": {
    "id": "1HsNI2_DC4YE"
   },
   "outputs": [],
   "source": [
    "clf = DecisionTreeClassifier(random_state=1)\n",
    "path = clf.cost_complexity_pruning_path(X_train, y_train)\n",
    "ccp_alphas, impurities = path.ccp_alphas, path.impurities"
   ]
  },
  {
   "cell_type": "code",
   "execution_count": null,
   "metadata": {
    "id": "bgA9le7wC4YE"
   },
   "outputs": [],
   "source": [
    "pd.DataFrame(path)"
   ]
  },
  {
   "cell_type": "code",
   "execution_count": null,
   "metadata": {
    "id": "X18_qAOtC4YE"
   },
   "outputs": [],
   "source": [
    "fig, ax = plt.subplots(figsize=(10, 5))\n",
    "ax.plot(ccp_alphas[:-1], impurities[:-1], marker=\"o\", drawstyle=\"steps-post\")\n",
    "ax.set_xlabel(\"effective alpha\")\n",
    "ax.set_ylabel(\"total impurity of leaves\")\n",
    "ax.set_title(\"Total Impurity vs effective alpha for training set\")\n",
    "plt.show()"
   ]
  },
  {
   "cell_type": "markdown",
   "metadata": {
    "id": "oF-sx5exC4YE"
   },
   "source": [
    "Next, we train a decision tree using effective alphas. The last value\n",
    "in ``ccp_alphas`` is the alpha value that prunes the whole tree,\n",
    "leaving the tree, ``clfs[-1]``, with one node."
   ]
  },
  {
   "cell_type": "code",
   "execution_count": null,
   "metadata": {
    "id": "nlFy--yRC4YE"
   },
   "outputs": [],
   "source": [
    "clfs = []\n",
    "for ccp_alpha in ccp_alphas:\n",
    "    clf = DecisionTreeClassifier(random_state=1, ccp_alpha=ccp_alpha)\n",
    "    clf.fit(__________)     ## Complete the code to fit decision tree on training data\n",
    "    clfs.append(clf)\n",
    "print(\n",
    "    \"Number of nodes in the last tree is: {} with ccp_alpha: {}\".format(\n",
    "        clfs[-1].tree_.node_count, ccp_alphas[-1]\n",
    "    )\n",
    ")"
   ]
  },
  {
   "cell_type": "code",
   "execution_count": null,
   "metadata": {
    "id": "iHgwicEeC4YF"
   },
   "outputs": [],
   "source": [
    "clfs = clfs[:-1]\n",
    "ccp_alphas = ccp_alphas[:-1]\n",
    "\n",
    "node_counts = [clf.tree_.node_count for clf in clfs]\n",
    "depth = [clf.tree_.max_depth for clf in clfs]\n",
    "fig, ax = plt.subplots(2, 1, figsize=(10, 7))\n",
    "ax[0].plot(ccp_alphas, node_counts, marker=\"o\", drawstyle=\"steps-post\")\n",
    "ax[0].set_xlabel(\"alpha\")\n",
    "ax[0].set_ylabel(\"number of nodes\")\n",
    "ax[0].set_title(\"Number of nodes vs alpha\")\n",
    "ax[1].plot(ccp_alphas, depth, marker=\"o\", drawstyle=\"steps-post\")\n",
    "ax[1].set_xlabel(\"alpha\")\n",
    "ax[1].set_ylabel(\"depth of tree\")\n",
    "ax[1].set_title(\"Depth vs alpha\")\n",
    "fig.tight_layout()"
   ]
  },
  {
   "cell_type": "markdown",
   "metadata": {
    "id": "bCeaA41iC4YF"
   },
   "source": [
    "**Recall vs alpha for training and testing sets**"
   ]
  },
  {
   "cell_type": "code",
   "execution_count": null,
   "metadata": {
    "id": "4CYXnB7AC4YF"
   },
   "outputs": [],
   "source": [
    "recall_train = []\n",
    "for clf in clfs:\n",
    "    pred_train = clf.predict(X_train)\n",
    "    values_train = recall_score(y_train, pred_train)\n",
    "    recall_train.append(values_train)\n",
    "\n",
    "recall_test = []\n",
    "for clf in clfs:\n",
    "    pred_test = clf.predict(X_test)\n",
    "    values_test = recall_score(y_test, pred_test)\n",
    "    recall_test.append(values_test)"
   ]
  },
  {
   "cell_type": "code",
   "execution_count": null,
   "metadata": {
    "id": "35pcSV4qC4YF"
   },
   "outputs": [],
   "source": [
    "fig, ax = plt.subplots(figsize=(15, 5))\n",
    "ax.set_xlabel(\"alpha\")\n",
    "ax.set_ylabel(\"Recall\")\n",
    "ax.set_title(\"Recall vs alpha for training and testing sets\")\n",
    "ax.plot(ccp_alphas, recall_train, marker=\"o\", label=\"train\", drawstyle=\"steps-post\")\n",
    "ax.plot(ccp_alphas, recall_test, marker=\"o\", label=\"test\", drawstyle=\"steps-post\")\n",
    "ax.legend()\n",
    "plt.show()"
   ]
  },
  {
   "cell_type": "code",
   "execution_count": null,
   "metadata": {
    "id": "7GTMKf4oC4YF"
   },
   "outputs": [],
   "source": [
    "index_best_model = np.argmax(recall_test)\n",
    "best_model = clfs[index_best_model]\n",
    "print(best_model)"
   ]
  },
  {
   "cell_type": "markdown",
   "metadata": {
    "id": "TiEyQuexJi6S"
   },
   "source": [
    "#### Post-Purning"
   ]
  },
  {
   "cell_type": "code",
   "execution_count": null,
   "metadata": {
    "id": "lqVMIBGkJYvT"
   },
   "outputs": [],
   "source": [
    "estimator_2 = DecisionTreeClassifier(\n",
    "    ccp_alpha=__________, class_weight={0: 0.15, 1: 0.85}, random_state=1         ## Complete the code by adding the correct ccp_alpha value\n",
    ")\n",
    "estimator_2.fit(X_train, y_train)"
   ]
  },
  {
   "cell_type": "markdown",
   "metadata": {
    "id": "teC2sBIqJ-aD"
   },
   "source": [
    "**Checking performance on training data**"
   ]
  },
  {
   "cell_type": "code",
   "execution_count": null,
   "metadata": {
    "id": "PnyDmQfdJYqT"
   },
   "outputs": [],
   "source": [
    "confusion_matrix_sklearn(___________________) ## Complete the code to create confusion matrix for train data"
   ]
  },
  {
   "cell_type": "code",
   "execution_count": null,
   "metadata": {
    "id": "TLCU4D4pJYmS"
   },
   "outputs": [],
   "source": [
    "decision_tree_tune_post_train = model_performance_classification_sklearn(______________) ## Complete the code to check performance on train data\n",
    "decision_tree_tune_post_train"
   ]
  },
  {
   "cell_type": "markdown",
   "metadata": {
    "id": "8E29ajQJKIIJ"
   },
   "source": [
    "**Visualizing the Decision Tree**"
   ]
  },
  {
   "cell_type": "code",
   "execution_count": null,
   "metadata": {
    "id": "zV5WX9U-JYh1"
   },
   "outputs": [],
   "source": [
    "plt.figure(figsize=(10, 10))\n",
    "out = tree.plot_tree(\n",
    "    estimator_2,\n",
    "    feature_names=feature_names,\n",
    "    filled=True,\n",
    "    fontsize=9,\n",
    "    node_ids=False,\n",
    "    class_names=None,\n",
    ")\n",
    "# below code will add arrows to the decision tree split if they are missing\n",
    "for o in out:\n",
    "    arrow = o.arrow_patch\n",
    "    if arrow is not None:\n",
    "        arrow.set_edgecolor(\"black\")\n",
    "        arrow.set_linewidth(1)\n",
    "plt.show()"
   ]
  },
  {
   "cell_type": "code",
   "execution_count": null,
   "metadata": {
    "id": "iKXV-lgTJYdP"
   },
   "outputs": [],
   "source": [
    "# Text report showing the rules of a decision tree -\n",
    "\n",
    "print(tree.export_text(estimator_2, feature_names=feature_names, show_weights=True))"
   ]
  },
  {
   "cell_type": "code",
   "execution_count": null,
   "metadata": {
    "id": "RqT520tJJW8Z"
   },
   "outputs": [],
   "source": [
    "# importance of features in the tree building ( The importance of a feature is computed as the\n",
    "# (normalized) total reduction of the criterion brought by that feature. It is also known as the Gini importance )\n",
    "\n",
    "print(\n",
    "    pd.DataFrame(\n",
    "        estimator_2.feature_importances_, columns=[\"Imp\"], index=X_train.columns\n",
    "    ).sort_values(by=\"Imp\", ascending=False)\n",
    ")"
   ]
  },
  {
   "cell_type": "code",
   "execution_count": null,
   "metadata": {
    "id": "ns3WjdzTMMqE"
   },
   "outputs": [],
   "source": [
    "importances = estimator_2.feature_importances_\n",
    "indices = np.argsort(importances)\n",
    "\n",
    "plt.figure(figsize=(8, 8))\n",
    "plt.title(\"Feature Importances\")\n",
    "plt.barh(range(len(indices)), importances[indices], color=\"violet\", align=\"center\")\n",
    "plt.yticks(range(len(indices)), [feature_names[i] for i in indices])\n",
    "plt.xlabel(\"Relative Importance\")\n",
    "plt.show()"
   ]
  },
  {
   "cell_type": "markdown",
   "metadata": {
    "id": "k51seI8KMQ_0"
   },
   "source": [
    "**Checking performance on test data**"
   ]
  },
  {
   "cell_type": "code",
   "execution_count": null,
   "metadata": {
    "id": "GCfZQpWqMMk0"
   },
   "outputs": [],
   "source": [
    "confusion_matrix_sklearn(___________)  # Complete the code to get the confusion matrix on test data"
   ]
  },
  {
   "cell_type": "code",
   "execution_count": null,
   "metadata": {
    "id": "G7ID5wFtMWTV"
   },
   "outputs": [],
   "source": [
    "decision_tree_tune_post_test = model_performance_classification_sklearn(_____________) ## Complete the code to get the model performance on test data\n",
    "decision_tree_tune_post_test"
   ]
  },
  {
   "cell_type": "markdown",
   "metadata": {
    "id": "Zv_bmR4AC4YG"
   },
   "source": [
    "## Model Performance Comparison and Final Model Selection"
   ]
  },
  {
   "cell_type": "code",
   "execution_count": null,
   "metadata": {
    "id": "2DfMXo0DC4YG"
   },
   "outputs": [],
   "source": [
    "# training performance comparison\n",
    "\n",
    "models_train_comp_df = pd.concat(\n",
    "    [decision_tree_perf_train.T, decision_tree_tune_perf_train.T], axis=1,\n",
    ")\n",
    "models_train_comp_df.columns = [\"Decision Tree sklearn\", \"Decision Tree (Pre-Pruning)\"]\n",
    "print(\"Training performance comparison:\")\n",
    "models_train_comp_df"
   ]
  },
  {
   "cell_type": "code",
   "execution_count": null,
   "metadata": {
    "id": "UB4yD9NBC4YG"
   },
   "outputs": [],
   "source": [
    "# testing performance comparison\n",
    "\n",
    "models_test_comp_df = pd.concat(\n",
    "    [_____], axis=1, ## Complete the code to compare performance of test set\n",
    ")\n",
    "models_test_comp_df.columns = [\"Decision Tree sklearn\", \"Decision Tree (Pre-Pruning)\"]\n",
    "print(\"Test performance comparison:\")\n",
    "models_test_comp_df"
   ]
  },
  {
   "cell_type": "markdown",
   "metadata": {
    "id": "Vlmp6asz6xoh"
   },
   "source": [
    "## Actionable Insights and Business Recommendations"
   ]
  },
  {
   "cell_type": "markdown",
   "metadata": {
    "id": "LAIsnkyTYmx8"
   },
   "source": [
    "**What recommedations would you suggest to the bank?**"
   ]
  },
  {
   "cell_type": "markdown",
   "metadata": {
    "id": "JAi7b4HnYp_7"
   },
   "source": [
    "*\n"
   ]
  },
  {
   "cell_type": "markdown",
   "metadata": {
    "id": "meolQkWtYni4"
   },
   "source": [
    "___"
   ]
  }
 ],
 "metadata": {
  "colab": {
   "provenance": []
  },
  "kernelspec": {
   "display_name": "Python 3 (ipykernel)",
   "language": "python",
   "name": "python3"
  },
  "language_info": {
   "codemirror_mode": {
    "name": "ipython",
    "version": 3
   },
   "file_extension": ".py",
   "mimetype": "text/x-python",
   "name": "python",
   "nbconvert_exporter": "python",
   "pygments_lexer": "ipython3",
   "version": "3.11.5"
  }
 },
 "nbformat": 4,
 "nbformat_minor": 1
}
